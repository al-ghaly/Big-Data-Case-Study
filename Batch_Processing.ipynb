{
 "cells": [
  {
   "cell_type": "markdown",
   "id": "496e52a4-788b-4449-b1ab-d8fa68aae036",
   "metadata": {},
   "source": [
    "### Import needed packages"
   ]
  },
  {
   "cell_type": "code",
   "execution_count": null,
   "id": "259b1cfe-0234-483c-ab33-0bc4bfea1297",
   "metadata": {},
   "outputs": [],
   "source": []
  },
  {
   "cell_type": "code",
   "execution_count": 37,
   "id": "bccd36a5-743e-48e4-9905-90be300b59ab",
   "metadata": {},
   "outputs": [],
   "source": [
    "from pyspark.sql import SparkSession\n",
    "from pyspark.sql.functions import col, regexp_extract, regexp_replace, desc, count, expr, sum as spark_sum , split, when, isnan\n",
    "from pyspark.sql.types import StructType, StructField, IntegerType, StringType, FloatType\n",
    "import subprocess"
   ]
  },
  {
   "cell_type": "markdown",
   "id": "f10ed56a-3c51-4c9c-b2b6-fe57c4d67fe9",
   "metadata": {},
   "source": [
    "### Set up Spark Session & Read the Data"
   ]
  },
  {
   "cell_type": "code",
   "execution_count": 2,
   "id": "95c71bdc-413b-4fb5-8a40-46acc73e8846",
   "metadata": {},
   "outputs": [],
   "source": [
    "spark = SparkSession.builder \\\n",
    "    .appName(\"RetailDataProcessing\") \\\n",
    "    .master(\"local[*]\")\\\n",
    "    .config(\"spark.sql.warehouse.dir\", \"/user/hive/warehouse\") \\\n",
    "    .enableHiveSupport() \\\n",
    "    .getOrCreate()\n",
    "\n",
    "load_time = \"2024-06-30-08\"\n",
    "    \n",
    "branches_df = spark.read.csv(\n",
    "                    f\"/Spark_Project/data/Q_company/branches/{load_time}\",\n",
    "                    header=True, \n",
    "                    inferSchema=True)\n",
    "sales_agents_df = spark.read.csv(\n",
    "                        f\"/Spark_Project/data/Q_company/sales_agents/{load_time}\", \n",
    "                        header=True, \n",
    "                        inferSchema=True)\n",
    "transactions_df = spark.read.csv(\n",
    "                        f\"/Spark_Project/data/Q_company/sales_transactions/{load_time}\",\n",
    "                        header=True,\n",
    "                        inferSchema=True)"
   ]
  },
  {
   "cell_type": "markdown",
   "id": "a77ddf74-a3d0-4e02-bc50-31d0fd71d3f9",
   "metadata": {},
   "source": [
    "### EDA and Data Cleaning for each DataFrame"
   ]
  },
  {
   "cell_type": "markdown",
   "id": "176a2efc-6adc-4402-9533-a48d6f662231",
   "metadata": {},
   "source": [
    "Before stepping into data cleansing we need to know our data."
   ]
  },
  {
   "cell_type": "markdown",
   "id": "322fc75e-c624-4627-a797-a0b25cb0f831",
   "metadata": {},
   "source": [
    "### Sales Transactions"
   ]
  },
  {
   "cell_type": "code",
   "execution_count": 3,
   "id": "295a45ce-6e4f-4f60-99f6-6d88719c2df2",
   "metadata": {
    "tags": []
   },
   "outputs": [
    {
     "data": {
      "text/html": [
       "<table border='1'>\n",
       "<tr><th>transaction_date</th><th>transaction_id</th><th>customer_id</th><th>customer_fname</th><th>cusomter_lname</th><th>cusomter_email</th><th>sales_agent_id</th><th>branch_id</th><th>product_id</th><th>product_name</th><th>product_category</th><th>offer_1</th><th>offer_2</th><th>offer_3</th><th>offer_4</th><th>offer_5</th><th>units</th><th>unit_price</th><th>is_online</th><th>payment_method</th><th>shipping_address</th><th>load_time</th><th>source</th><th>source_path</th><th>group</th></tr>\n",
       "<tr><td>2023-05-20 00:00:00</td><td>trx-152546429674</td><td>85469</td><td>Alexander</td><td>Brown</td><td>alexander.brown@g...</td><td>1.0</td><td>2.0</td><td>22</td><td>Coffee Maker</td><td>Appliances</td><td>null</td><td>null</td><td>null</td><td>null</td><td>null</td><td>10</td><td>79.99</td><td>no</td><td>Cash</td><td>null</td><td>2024-06-30 08:18:...</td><td>Local File System</td><td>/data/Spark_proje...</td><td>group1</td></tr>\n",
       "<tr><td>2022-10-25 00:00:00</td><td>trx-291375327542</td><td>85512</td><td>William</td><td>Brown</td><td>william.brown@gma...</td><td>3.0</td><td>1.0</td><td>24</td><td>Blender</td><td>Appliances</td><td>null</td><td>null</td><td>null</td><td>true</td><td>null</td><td>5</td><td>49.99</td><td>no</td><td>Cash</td><td>null</td><td>2024-06-30 08:18:...</td><td>Local File System</td><td>/data/Spark_proje...</td><td>group1</td></tr>\n",
       "<tr><td>2022-02-05 00:00:00</td><td>trx-312507679871</td><td>85484</td><td>John</td><td>Williams</td><td>john.williams@gma...</td><td>10.0</td><td>3.0</td><td>4</td><td>Headphones</td><td>Electronics</td><td>null</td><td>null</td><td>null</td><td>null</td><td>null</td><td>1</td><td>99.99</td><td>no</td><td>Credit Card</td><td>null</td><td>2024-06-30 08:18:...</td><td>Local File System</td><td>/data/Spark_proje...</td><td>group1</td></tr>\n",
       "<tr><td>2023-10-20 00:00:00</td><td>trx-193384855491</td><td>85528</td><td>Alexander</td><td>Miller</td><td>alexander.miller@...</td><td>7.0</td><td>2.0</td><td>25</td><td>Washing Machine</td><td>Appliances</td><td>null</td><td>null</td><td>null</td><td>null</td><td>null</td><td>8</td><td>499.99</td><td>no</td><td>Cash</td><td>null</td><td>2024-06-30 08:18:...</td><td>Local File System</td><td>/data/Spark_proje...</td><td>group1</td></tr>\n",
       "<tr><td>2022-11-17 00:00:00</td><td>trx-831626097654</td><td>85500</td><td>John</td><td>Brown</td><td>john.brown@hotmai...</td><td>5.0</td><td>1.0</td><td>14</td><td>Camera</td><td>Electronics</td><td>null</td><td>null</td><td>true</td><td>null</td><td>null</td><td>10</td><td>399.99</td><td>no</td><td>Cash</td><td>null</td><td>2024-06-30 08:18:...</td><td>Local File System</td><td>/data/Spark_proje...</td><td>group1</td></tr>\n",
       "<tr><td>2022-09-27 00:00:00</td><td>trx-158496122054</td><td>85545</td><td>Sophia</td><td>Wilson</td><td>sophia.wilson@hot...</td><td>4.0</td><td>5.0</td><td>14</td><td>Camera</td><td>Electronics</td><td>null</td><td>null</td><td>null</td><td>null</td><td>true</td><td>6</td><td>399.99</td><td>no</td><td>Credit Card</td><td>null</td><td>2024-06-30 08:18:...</td><td>Local File System</td><td>/data/Spark_proje...</td><td>group1</td></tr>\n",
       "<tr><td>2022-04-21 00:00:00</td><td>trx-722817999024</td><td>85561</td><td>Alexander</td><td>Moore</td><td>alexander.moore@y...</td><td>4.0</td><td>1.0</td><td>30</td><td>Electric Kettle</td><td>Appliances</td><td>null</td><td>null</td><td>null</td><td>true</td><td>null</td><td>6</td><td>24.99</td><td>no</td><td>Credit Card</td><td>null</td><td>2024-06-30 08:18:...</td><td>Local File System</td><td>/data/Spark_proje...</td><td>group1</td></tr>\n",
       "<tr><td>2023-04-28 00:00:00</td><td>trx-813287633702</td><td>85520</td><td>Alexander</td><td>Wilson</td><td>alexander.wilson@...</td><td>1.0</td><td>1.0</td><td>26</td><td>Vacuum Cleaner</td><td>Appliances</td><td>null</td><td>null</td><td>null</td><td>null</td><td>null</td><td>4</td><td>199.99</td><td>no</td><td>Cash</td><td>null</td><td>2024-06-30 08:18:...</td><td>Local File System</td><td>/data/Spark_proje...</td><td>group1</td></tr>\n",
       "<tr><td>2023-03-08 00:00:00</td><td>trx-219568257432</td><td>85488</td><td>Michael</td><td>Miller</td><td>michael.miller@ya...</td><td>6.0</td><td>2.0</td><td>18</td><td>Boots</td><td>Footwear</td><td>null</td><td>null</td><td>null</td><td>null</td><td>null</td><td>10</td><td>149.99</td><td>no</td><td>Credit Card</td><td>null</td><td>2024-06-30 08:18:...</td><td>Local File System</td><td>/data/Spark_proje...</td><td>group1</td></tr>\n",
       "<tr><td>2023-06-17 00:00:00</td><td>trx-352160720823</td><td>85466</td><td>Michael</td><td>Brown</td><td>michael.brown@yah...</td><td>5.0</td><td>2.0</td><td>16</td><td>Skirt</td><td>Clothing</td><td>null</td><td>null</td><td>null</td><td>null</td><td>null</td><td>8</td><td>39.99</td><td>no</td><td>Cash</td><td>null</td><td>2024-06-30 08:18:...</td><td>Local File System</td><td>/data/Spark_proje...</td><td>group1</td></tr>\n",
       "<tr><td>2022-08-28 00:00:00</td><td>trx-895389231641</td><td>85559</td><td>John</td><td>Taylor</td><td>john.taylor@yahoo...</td><td>6.0</td><td>5.0</td><td>14</td><td>Camera</td><td>Electronics</td><td>null</td><td>null</td><td>null</td><td>null</td><td>null</td><td>6</td><td>399.99</td><td>no</td><td>Cash</td><td>null</td><td>2024-06-30 08:18:...</td><td>Local File System</td><td>/data/Spark_proje...</td><td>group1</td></tr>\n",
       "<tr><td>2023-11-19 00:00:00</td><td>trx-820309386661</td><td>85527</td><td>Alexander</td><td>Davis</td><td>alexander.davis@y...</td><td>7.0</td><td>2.0</td><td>22</td><td>Coffee Maker</td><td>Appliances</td><td>null</td><td>null</td><td>null</td><td>null</td><td>null</td><td>6</td><td>79.99</td><td>no</td><td>Credit Card</td><td>null</td><td>2024-06-30 08:18:...</td><td>Local File System</td><td>/data/Spark_proje...</td><td>group1</td></tr>\n",
       "<tr><td>2022-03-22 00:00:00</td><td>trx-974983174642</td><td>85502</td><td>Michael</td><td>Brown</td><td>michael.brown@hot...</td><td>4.0</td><td>5.0</td><td>5</td><td>T-Shirt</td><td>Clothing</td><td>true</td><td>null</td><td>null</td><td>null</td><td>null</td><td>10</td><td>19.99</td><td>no</td><td>Cash</td><td>null</td><td>2024-06-30 08:18:...</td><td>Local File System</td><td>/data/Spark_proje...</td><td>group1</td></tr>\n",
       "<tr><td>2022-09-27 00:00:00</td><td>trx-119174604031</td><td>85508</td><td>James</td><td>Smith</td><td>james.smith@yahoo...</td><td>1.0</td><td>3.0</td><td>9</td><td>Boots</td><td>Footwear</td><td>null</td><td>null</td><td>null</td><td>null</td><td>null</td><td>1</td><td>129.99</td><td>no</td><td>Credit Card</td><td>null</td><td>2024-06-30 08:18:...</td><td>Local File System</td><td>/data/Spark_proje...</td><td>group1</td></tr>\n",
       "<tr><td>2022-04-03 00:00:00</td><td>trx-474525094645</td><td>85549</td><td>Emma</td><td>Johnson</td><td>emma.johnson@hotm...</td><td>2.0</td><td>3.0</td><td>2</td><td>Smartphone</td><td>Electronics</td><td>null</td><td>null</td><td>null</td><td>null</td><td>null</td><td>9</td><td>699.99</td><td>no</td><td>Credit Card</td><td>null</td><td>2024-06-30 08:18:...</td><td>Local File System</td><td>/data/Spark_proje...</td><td>group1</td></tr>\n",
       "<tr><td>2022-12-14 00:00:00</td><td>trx-355633008132</td><td>85483</td><td>John</td><td>Johnson</td><td>john.johnson@yaho...</td><td>9.0</td><td>5.0</td><td>27</td><td>Iron</td><td>Appliances</td><td>null</td><td>true</td><td>null</td><td>null</td><td>null</td><td>9</td><td>29.99</td><td>no</td><td>Credit Card</td><td>null</td><td>2024-06-30 08:18:...</td><td>Local File System</td><td>/data/Spark_proje...</td><td>group1</td></tr>\n",
       "<tr><td>2023-04-14 00:00:00</td><td>trx-490311940006</td><td>85496</td><td>James</td><td>Davis</td><td>james.davis@yahoo...</td><td>8.0</td><td>2.0</td><td>19</td><td>Sandals</td><td>Footwear</td><td>null</td><td>true</td><td>null</td><td>null</td><td>null</td><td>2</td><td>29.99</td><td>no</td><td>Credit Card</td><td>null</td><td>2024-06-30 08:18:...</td><td>Local File System</td><td>/data/Spark_proje...</td><td>group1</td></tr>\n",
       "<tr><td>2023-01-19 00:00:00</td><td>trx-132205124356</td><td>85507</td><td>Ava</td><td>Miller</td><td>ava.miller@outloo...</td><td>2.0</td><td>2.0</td><td>28</td><td>Hair Dryer</td><td>Appliances</td><td>null</td><td>null</td><td>null</td><td>null</td><td>null</td><td>3</td><td>19.99</td><td>no</td><td>Cash</td><td>null</td><td>2024-06-30 08:18:...</td><td>Local File System</td><td>/data/Spark_proje...</td><td>group1</td></tr>\n",
       "<tr><td>2023-10-14 00:00:00</td><td>trx-276319959382</td><td>85543</td><td>Olivia</td><td>Brown</td><td>olivia.brown@outl...</td><td>10.0</td><td>5.0</td><td>24</td><td>Blender</td><td>Appliances</td><td>null</td><td>null</td><td>null</td><td>null</td><td>null</td><td>10</td><td>49.99</td><td>no</td><td>Cash</td><td>null</td><td>2024-06-30 08:18:...</td><td>Local File System</td><td>/data/Spark_proje...</td><td>group1</td></tr>\n",
       "<tr><td>2022-03-24 00:00:00</td><td>trx-024853282614</td><td>85518</td><td>Sophia</td><td>Brown</td><td>sophia.brown@gmai...</td><td>1.0</td><td>4.0</td><td>3</td><td>Tablet</td><td>Electronics</td><td>null</td><td>null</td><td>true</td><td>null</td><td>null</td><td>1</td><td>299.99</td><td>no</td><td>Cash</td><td>null</td><td>2024-06-30 08:18:...</td><td>Local File System</td><td>/data/Spark_proje...</td><td>group1</td></tr>\n",
       "</table>\n",
       "only showing top 20 rows\n"
      ],
      "text/plain": [
       "+-------------------+----------------+-----------+--------------+--------------+--------------------+--------------+---------+----------+---------------+----------------+-------+-------+-------+-------+-------+-----+----------+---------+--------------+----------------+--------------------+-----------------+--------------------+------+\n",
       "|   transaction_date|  transaction_id|customer_id|customer_fname|cusomter_lname|      cusomter_email|sales_agent_id|branch_id|product_id|   product_name|product_category|offer_1|offer_2|offer_3|offer_4|offer_5|units|unit_price|is_online|payment_method|shipping_address|           load_time|           source|         source_path| group|\n",
       "+-------------------+----------------+-----------+--------------+--------------+--------------------+--------------+---------+----------+---------------+----------------+-------+-------+-------+-------+-------+-----+----------+---------+--------------+----------------+--------------------+-----------------+--------------------+------+\n",
       "|2023-05-20 00:00:00|trx-152546429674|      85469|     Alexander|         Brown|alexander.brown@g...|           1.0|      2.0|        22|   Coffee Maker|      Appliances|   null|   null|   null|   null|   null|   10|     79.99|       no|          Cash|            null|2024-06-30 08:18:...|Local File System|/data/Spark_proje...|group1|\n",
       "|2022-10-25 00:00:00|trx-291375327542|      85512|       William|         Brown|william.brown@gma...|           3.0|      1.0|        24|        Blender|      Appliances|   null|   null|   null|   true|   null|    5|     49.99|       no|          Cash|            null|2024-06-30 08:18:...|Local File System|/data/Spark_proje...|group1|\n",
       "|2022-02-05 00:00:00|trx-312507679871|      85484|          John|      Williams|john.williams@gma...|          10.0|      3.0|         4|     Headphones|     Electronics|   null|   null|   null|   null|   null|    1|     99.99|       no|   Credit Card|            null|2024-06-30 08:18:...|Local File System|/data/Spark_proje...|group1|\n",
       "|2023-10-20 00:00:00|trx-193384855491|      85528|     Alexander|        Miller|alexander.miller@...|           7.0|      2.0|        25|Washing Machine|      Appliances|   null|   null|   null|   null|   null|    8|    499.99|       no|          Cash|            null|2024-06-30 08:18:...|Local File System|/data/Spark_proje...|group1|\n",
       "|2022-11-17 00:00:00|trx-831626097654|      85500|          John|         Brown|john.brown@hotmai...|           5.0|      1.0|        14|         Camera|     Electronics|   null|   null|   true|   null|   null|   10|    399.99|       no|          Cash|            null|2024-06-30 08:18:...|Local File System|/data/Spark_proje...|group1|\n",
       "|2022-09-27 00:00:00|trx-158496122054|      85545|        Sophia|        Wilson|sophia.wilson@hot...|           4.0|      5.0|        14|         Camera|     Electronics|   null|   null|   null|   null|   true|    6|    399.99|       no|   Credit Card|            null|2024-06-30 08:18:...|Local File System|/data/Spark_proje...|group1|\n",
       "|2022-04-21 00:00:00|trx-722817999024|      85561|     Alexander|         Moore|alexander.moore@y...|           4.0|      1.0|        30|Electric Kettle|      Appliances|   null|   null|   null|   true|   null|    6|     24.99|       no|   Credit Card|            null|2024-06-30 08:18:...|Local File System|/data/Spark_proje...|group1|\n",
       "|2023-04-28 00:00:00|trx-813287633702|      85520|     Alexander|        Wilson|alexander.wilson@...|           1.0|      1.0|        26| Vacuum Cleaner|      Appliances|   null|   null|   null|   null|   null|    4|    199.99|       no|          Cash|            null|2024-06-30 08:18:...|Local File System|/data/Spark_proje...|group1|\n",
       "|2023-03-08 00:00:00|trx-219568257432|      85488|       Michael|        Miller|michael.miller@ya...|           6.0|      2.0|        18|          Boots|        Footwear|   null|   null|   null|   null|   null|   10|    149.99|       no|   Credit Card|            null|2024-06-30 08:18:...|Local File System|/data/Spark_proje...|group1|\n",
       "|2023-06-17 00:00:00|trx-352160720823|      85466|       Michael|         Brown|michael.brown@yah...|           5.0|      2.0|        16|          Skirt|        Clothing|   null|   null|   null|   null|   null|    8|     39.99|       no|          Cash|            null|2024-06-30 08:18:...|Local File System|/data/Spark_proje...|group1|\n",
       "|2022-08-28 00:00:00|trx-895389231641|      85559|          John|        Taylor|john.taylor@yahoo...|           6.0|      5.0|        14|         Camera|     Electronics|   null|   null|   null|   null|   null|    6|    399.99|       no|          Cash|            null|2024-06-30 08:18:...|Local File System|/data/Spark_proje...|group1|\n",
       "|2023-11-19 00:00:00|trx-820309386661|      85527|     Alexander|         Davis|alexander.davis@y...|           7.0|      2.0|        22|   Coffee Maker|      Appliances|   null|   null|   null|   null|   null|    6|     79.99|       no|   Credit Card|            null|2024-06-30 08:18:...|Local File System|/data/Spark_proje...|group1|\n",
       "|2022-03-22 00:00:00|trx-974983174642|      85502|       Michael|         Brown|michael.brown@hot...|           4.0|      5.0|         5|        T-Shirt|        Clothing|   true|   null|   null|   null|   null|   10|     19.99|       no|          Cash|            null|2024-06-30 08:18:...|Local File System|/data/Spark_proje...|group1|\n",
       "|2022-09-27 00:00:00|trx-119174604031|      85508|         James|         Smith|james.smith@yahoo...|           1.0|      3.0|         9|          Boots|        Footwear|   null|   null|   null|   null|   null|    1|    129.99|       no|   Credit Card|            null|2024-06-30 08:18:...|Local File System|/data/Spark_proje...|group1|\n",
       "|2022-04-03 00:00:00|trx-474525094645|      85549|          Emma|       Johnson|emma.johnson@hotm...|           2.0|      3.0|         2|     Smartphone|     Electronics|   null|   null|   null|   null|   null|    9|    699.99|       no|   Credit Card|            null|2024-06-30 08:18:...|Local File System|/data/Spark_proje...|group1|\n",
       "|2022-12-14 00:00:00|trx-355633008132|      85483|          John|       Johnson|john.johnson@yaho...|           9.0|      5.0|        27|           Iron|      Appliances|   null|   true|   null|   null|   null|    9|     29.99|       no|   Credit Card|            null|2024-06-30 08:18:...|Local File System|/data/Spark_proje...|group1|\n",
       "|2023-04-14 00:00:00|trx-490311940006|      85496|         James|         Davis|james.davis@yahoo...|           8.0|      2.0|        19|        Sandals|        Footwear|   null|   true|   null|   null|   null|    2|     29.99|       no|   Credit Card|            null|2024-06-30 08:18:...|Local File System|/data/Spark_proje...|group1|\n",
       "|2023-01-19 00:00:00|trx-132205124356|      85507|           Ava|        Miller|ava.miller@outloo...|           2.0|      2.0|        28|     Hair Dryer|      Appliances|   null|   null|   null|   null|   null|    3|     19.99|       no|          Cash|            null|2024-06-30 08:18:...|Local File System|/data/Spark_proje...|group1|\n",
       "|2023-10-14 00:00:00|trx-276319959382|      85543|        Olivia|         Brown|olivia.brown@outl...|          10.0|      5.0|        24|        Blender|      Appliances|   null|   null|   null|   null|   null|   10|     49.99|       no|          Cash|            null|2024-06-30 08:18:...|Local File System|/data/Spark_proje...|group1|\n",
       "|2022-03-24 00:00:00|trx-024853282614|      85518|        Sophia|         Brown|sophia.brown@gmai...|           1.0|      4.0|         3|         Tablet|     Electronics|   null|   null|   true|   null|   null|    1|    299.99|       no|          Cash|            null|2024-06-30 08:18:...|Local File System|/data/Spark_proje...|group1|\n",
       "+-------------------+----------------+-----------+--------------+--------------+--------------------+--------------+---------+----------+---------------+----------------+-------+-------+-------+-------+-------+-----+----------+---------+--------------+----------------+--------------------+-----------------+--------------------+------+\n",
       "only showing top 20 rows"
      ]
     },
     "execution_count": 3,
     "metadata": {},
     "output_type": "execute_result"
    }
   ],
   "source": [
    "transactions_df"
   ]
  },
  {
   "cell_type": "code",
   "execution_count": 4,
   "id": "fcafc384-ffb3-46ac-8d34-2177ce022270",
   "metadata": {
    "tags": []
   },
   "outputs": [
    {
     "data": {
      "text/plain": [
       "[('transaction_date', 'timestamp'),\n",
       " ('transaction_id', 'string'),\n",
       " ('customer_id', 'int'),\n",
       " ('customer_fname', 'string'),\n",
       " ('cusomter_lname', 'string'),\n",
       " ('cusomter_email', 'string'),\n",
       " ('sales_agent_id', 'double'),\n",
       " ('branch_id', 'double'),\n",
       " ('product_id', 'int'),\n",
       " ('product_name', 'string'),\n",
       " ('product_category', 'string'),\n",
       " ('offer_1', 'boolean'),\n",
       " ('offer_2', 'boolean'),\n",
       " ('offer_3', 'boolean'),\n",
       " ('offer_4', 'boolean'),\n",
       " ('offer_5', 'boolean'),\n",
       " ('units', 'int'),\n",
       " ('unit_price', 'double'),\n",
       " ('is_online', 'string'),\n",
       " ('payment_method', 'string'),\n",
       " ('shipping_address', 'string'),\n",
       " ('load_time', 'timestamp'),\n",
       " ('source', 'string'),\n",
       " ('source_path', 'string'),\n",
       " ('group', 'string')]"
      ]
     },
     "execution_count": 4,
     "metadata": {},
     "output_type": "execute_result"
    }
   ],
   "source": [
    "transactions_df.dtypes"
   ]
  },
  {
   "cell_type": "markdown",
   "id": "f198f2bb-ea53-42d1-9041-be4dc122b9d0",
   "metadata": {},
   "source": [
    "Check for Nulls"
   ]
  },
  {
   "cell_type": "code",
   "execution_count": 5,
   "id": "190489ea-72eb-40db-9398-4cd748cc7483",
   "metadata": {
    "tags": []
   },
   "outputs": [
    {
     "data": {
      "text/html": [
       "<table border='1'>\n",
       "<tr><th>transaction_date</th><th>transaction_id</th><th>customer_id</th><th>customer_fname</th><th>cusomter_lname</th><th>cusomter_email</th><th>sales_agent_id</th><th>branch_id</th><th>product_id</th><th>product_name</th><th>product_category</th><th>offer_1</th><th>offer_2</th><th>offer_3</th><th>offer_4</th><th>offer_5</th><th>units</th><th>unit_price</th><th>is_online</th><th>payment_method</th><th>shipping_address</th><th>load_time</th><th>source</th><th>source_path</th><th>group</th></tr>\n",
       "<tr><td>0</td><td>0</td><td>0</td><td>0</td><td>0</td><td>0</td><td>500</td><td>500</td><td>0</td><td>0</td><td>0</td><td>1347</td><td>1356</td><td>1332</td><td>1355</td><td>1374</td><td>0</td><td>0</td><td>0</td><td>0</td><td>1000</td><td>0</td><td>0</td><td>0</td><td>0</td></tr>\n",
       "</table>\n"
      ],
      "text/plain": [
       "+----------------+--------------+-----------+--------------+--------------+--------------+--------------+---------+----------+------------+----------------+-------+-------+-------+-------+-------+-----+----------+---------+--------------+----------------+---------+------+-----------+-----+\n",
       "|transaction_date|transaction_id|customer_id|customer_fname|cusomter_lname|cusomter_email|sales_agent_id|branch_id|product_id|product_name|product_category|offer_1|offer_2|offer_3|offer_4|offer_5|units|unit_price|is_online|payment_method|shipping_address|load_time|source|source_path|group|\n",
       "+----------------+--------------+-----------+--------------+--------------+--------------+--------------+---------+----------+------------+----------------+-------+-------+-------+-------+-------+-----+----------+---------+--------------+----------------+---------+------+-----------+-----+\n",
       "|               0|             0|          0|             0|             0|             0|           500|      500|         0|           0|               0|   1347|   1356|   1332|   1355|   1374|    0|         0|        0|             0|            1000|        0|     0|          0|    0|\n",
       "+----------------+--------------+-----------+--------------+--------------+--------------+--------------+---------+----------+------------+----------------+-------+-------+-------+-------+-------+-----+----------+---------+--------------+----------------+---------+------+-----------+-----+"
      ]
     },
     "execution_count": 5,
     "metadata": {},
     "output_type": "execute_result"
    }
   ],
   "source": [
    "expressions = []\n",
    "\n",
    "for col_name, data_type in transactions_df.dtypes:\n",
    "    if data_type in ['int', 'bigint', 'float', 'double', 'decimal']:\n",
    "        # Check for both NaN and null values in numeric columns\n",
    "        expressions.append(count(when(col(col_name).isNull() | isnan(col(col_name)), col_name)).alias(col_name))\n",
    "    else:\n",
    "        # Check only for null values in other columns\n",
    "        expressions.append(count(when(col(col_name).isNull(), col_name)).alias(col_name))\n",
    "\n",
    "# Count null and NaN values in each column\n",
    "transactions_df.select(expressions)"
   ]
  },
  {
   "cell_type": "code",
   "execution_count": 6,
   "id": "7e38d92a-2272-4942-b698-8189f266a194",
   "metadata": {
    "tags": []
   },
   "outputs": [
    {
     "data": {
      "text/html": [
       "<table border='1'>\n",
       "<tr><th>summary</th><th>transaction_id</th><th>customer_id</th><th>customer_fname</th><th>cusomter_lname</th><th>cusomter_email</th><th>sales_agent_id</th><th>branch_id</th><th>product_id</th><th>product_name</th><th>product_category</th><th>units</th><th>unit_price</th><th>is_online</th><th>payment_method</th><th>shipping_address</th><th>source</th><th>source_path</th><th>group</th></tr>\n",
       "<tr><td>count</td><td>1500</td><td>1500</td><td>1500</td><td>1500</td><td>1500</td><td>1000</td><td>1000</td><td>1500</td><td>1500</td><td>1500</td><td>1500</td><td>1500</td><td>1500</td><td>1500</td><td>500</td><td>1500</td><td>1500</td><td>1500</td></tr>\n",
       "<tr><td>mean</td><td>null</td><td>85511.282</td><td>null</td><td>null</td><td>null</td><td>5.592</td><td>3.027</td><td>15.678</td><td>null</td><td>null</td><td>5.422666666666666</td><td>178.61333333332968</td><td>null</td><td>null</td><td>null</td><td>null</td><td>null</td><td>null</td></tr>\n",
       "<tr><td>stddev</td><td>null</td><td>28.880556325824408</td><td>null</td><td>null</td><td>null</td><td>2.933622699350095</td><td>1.4492658042510256</td><td>8.706138479916778</td><td>null</td><td>null</td><td>2.8213459348589245</td><td>239.83557323789387</td><td>null</td><td>null</td><td>null</td><td>null</td><td>null</td><td>null</td></tr>\n",
       "<tr><td>min</td><td>trx-000112360946</td><td>85462</td><td>Alexander</td><td>Brown</td><td>alexander.brown@g...</td><td>1.0</td><td>1.0</td><td>1</td><td>Blender</td><td>Appliances</td><td>1</td><td>19.99</td><td>no</td><td>Cash</td><td>10 Dalry Lane/Sav...</td><td>Local File System</td><td>/data/Spark_proje...</td><td>group1</td></tr>\n",
       "<tr><td>max</td><td>trx-999392026173</td><td>85562</td><td>William</td><td>Wilson</td><td>william.wilson@ya...</td><td>10.0</td><td>5.0</td><td>30</td><td>Washing Machine</td><td>Footwear</td><td>10</td><td>999.99</td><td>yes</td><td>Stripe</td><td>Tyndall Drive/Tyn...</td><td>Local File System</td><td>/data/Spark_proje...</td><td>group1</td></tr>\n",
       "</table>\n"
      ],
      "text/plain": [
       "+-------+----------------+------------------+--------------+--------------+--------------------+-----------------+------------------+-----------------+---------------+----------------+------------------+------------------+---------+--------------+--------------------+-----------------+--------------------+------+\n",
       "|summary|  transaction_id|       customer_id|customer_fname|cusomter_lname|      cusomter_email|   sales_agent_id|         branch_id|       product_id|   product_name|product_category|             units|        unit_price|is_online|payment_method|    shipping_address|           source|         source_path| group|\n",
       "+-------+----------------+------------------+--------------+--------------+--------------------+-----------------+------------------+-----------------+---------------+----------------+------------------+------------------+---------+--------------+--------------------+-----------------+--------------------+------+\n",
       "|  count|            1500|              1500|          1500|          1500|                1500|             1000|              1000|             1500|           1500|            1500|              1500|              1500|     1500|          1500|                 500|             1500|                1500|  1500|\n",
       "|   mean|            null|         85511.282|          null|          null|                null|            5.592|             3.027|           15.678|           null|            null| 5.422666666666666|178.61333333332968|     null|          null|                null|             null|                null|  null|\n",
       "| stddev|            null|28.880556325824408|          null|          null|                null|2.933622699350095|1.4492658042510256|8.706138479916778|           null|            null|2.8213459348589245|239.83557323789387|     null|          null|                null|             null|                null|  null|\n",
       "|    min|trx-000112360946|             85462|     Alexander|         Brown|alexander.brown@g...|              1.0|               1.0|                1|        Blender|      Appliances|                 1|             19.99|       no|          Cash|10 Dalry Lane/Sav...|Local File System|/data/Spark_proje...|group1|\n",
       "|    max|trx-999392026173|             85562|       William|        Wilson|william.wilson@ya...|             10.0|               5.0|               30|Washing Machine|        Footwear|                10|            999.99|      yes|        Stripe|Tyndall Drive/Tyn...|Local File System|/data/Spark_proje...|group1|\n",
       "+-------+----------------+------------------+--------------+--------------+--------------------+-----------------+------------------+-----------------+---------------+----------------+------------------+------------------+---------+--------------+--------------------+-----------------+--------------------+------+"
      ]
     },
     "execution_count": 6,
     "metadata": {},
     "output_type": "execute_result"
    }
   ],
   "source": [
    "transactions_df.describe()"
   ]
  },
  {
   "cell_type": "markdown",
   "id": "c096c06a-ec6f-40e1-854f-02f7029e4271",
   "metadata": {},
   "source": [
    "Check that each offer only applies a single offer at most"
   ]
  },
  {
   "cell_type": "code",
   "execution_count": 7,
   "id": "6e28a4c5-f74c-49a8-85e7-8a1a025976df",
   "metadata": {},
   "outputs": [
    {
     "data": {
      "text/html": [
       "<table border='1'>\n",
       "<tr><th>transaction_date</th><th>transaction_id</th><th>customer_id</th><th>customer_fname</th><th>cusomter_lname</th><th>cusomter_email</th><th>sales_agent_id</th><th>branch_id</th><th>product_id</th><th>product_name</th><th>product_category</th><th>offer_1</th><th>offer_2</th><th>offer_3</th><th>offer_4</th><th>offer_5</th><th>units</th><th>unit_price</th><th>is_online</th><th>payment_method</th><th>shipping_address</th><th>load_time</th><th>source</th><th>source_path</th><th>group</th><th>Offers</th></tr>\n",
       "</table>\n"
      ],
      "text/plain": [
       "+----------------+--------------+-----------+--------------+--------------+--------------+--------------+---------+----------+------------+----------------+-------+-------+-------+-------+-------+-----+----------+---------+--------------+----------------+---------+------+-----------+-----+------+\n",
       "|transaction_date|transaction_id|customer_id|customer_fname|cusomter_lname|cusomter_email|sales_agent_id|branch_id|product_id|product_name|product_category|offer_1|offer_2|offer_3|offer_4|offer_5|units|unit_price|is_online|payment_method|shipping_address|load_time|source|source_path|group|Offers|\n",
       "+----------------+--------------+-----------+--------------+--------------+--------------+--------------+---------+----------+------------+----------------+-------+-------+-------+-------+-------+-----+----------+---------+--------------+----------------+---------+------+-----------+-----+------+\n",
       "+----------------+--------------+-----------+--------------+--------------+--------------+--------------+---------+----------+------------+----------------+-------+-------+-------+-------+-------+-----+----------+---------+--------------+----------------+---------+------+-----------+-----+------+"
      ]
     },
     "execution_count": 7,
     "metadata": {},
     "output_type": "execute_result"
    }
   ],
   "source": [
    "columns = [\"offer_1\", \"offer_2\", \"offer_3\", \"offer_4\", \"offer_5\"]\n",
    "offers_count_expr = sum(when(col(c) == True, 1).otherwise(0) for c in columns).alias(\"offers\")\n",
    "transactions_df.withColumn(\"Offers\", \n",
    "                           offers_count_expr).where(\"offers > 1\")"
   ]
  },
  {
   "cell_type": "markdown",
   "id": "ade2ea40-2ff7-4f85-a7ba-c0a437a863bf",
   "metadata": {},
   "source": [
    "### Data Cleansing"
   ]
  },
  {
   "cell_type": "markdown",
   "id": "37572828-7cb1-43a2-a207-1dacfa3c3c67",
   "metadata": {},
   "source": [
    "Repartition the DataFrame"
   ]
  },
  {
   "cell_type": "code",
   "execution_count": 8,
   "id": "4bcca11c-f6c3-4ec0-a29a-458de450653e",
   "metadata": {},
   "outputs": [
    {
     "data": {
      "text/plain": [
       "1"
      ]
     },
     "execution_count": 8,
     "metadata": {},
     "output_type": "execute_result"
    }
   ],
   "source": [
    "transactions_df.rdd.getNumPartitions()"
   ]
  },
  {
   "cell_type": "code",
   "execution_count": 9,
   "id": "ae621d0e-b34a-44ea-8577-dec3b75606eb",
   "metadata": {},
   "outputs": [
    {
     "data": {
      "text/plain": [
       "10"
      ]
     },
     "execution_count": 9,
     "metadata": {},
     "output_type": "execute_result"
    }
   ],
   "source": [
    "transactions_df = transactions_df.withColumn(\"transaction_date\", col(\"transaction_date\").cast(\"date\"))\n",
    "transactions_df = transactions_df.repartition(10)\n",
    "transactions_df.rdd.getNumPartitions()"
   ]
  },
  {
   "cell_type": "markdown",
   "id": "96fb4e14-c095-4ca5-83fe-aea019d56c6f",
   "metadata": {},
   "source": [
    "Split the location column"
   ]
  },
  {
   "cell_type": "code",
   "execution_count": 10,
   "id": "e2a68e23-6877-48e4-86d6-9d3eb1c44e6d",
   "metadata": {
    "tags": []
   },
   "outputs": [
    {
     "name": "stdout",
     "output_type": "stream",
     "text": [
      "+--------------------------------------------------+------------+------------------------------+-----+--------+\n",
      "|shipping_address                                  |city        |Street                        |State|Zip_Code|\n",
      "+--------------------------------------------------+------------+------------------------------+-----+--------+\n",
      "|5403 Illinois Avenue/Nashville/TN/37209           |Nashville   |5403 Illinois Avenue          |TN   |37209   |\n",
      "|113 Hammarlee Road/Glen Burnie/MD/21060           |Glen Burnie |113 Hammarlee Road            |MD   |21060   |\n",
      "|8376 Albacore Drive/Pasadena/MD/21122             |Pasadena    |8376 Albacore Drive           |MD   |21122   |\n",
      "|2704 McGee Avenue/Berkeley/CA/94703               |Berkeley    |2704 McGee Avenue             |CA   |94703   |\n",
      "|2906 Clare Avenue/Nashville/TN/37209              |Nashville   |2906 Clare Avenue             |TN   |37209   |\n",
      "|8188 Poinsett Terrace/Pasadena/MD/21122           |Pasadena    |8188 Poinsett Terrace         |MD   |21122   |\n",
      "|915 Sacramento Street/Bakersfield/CA/93305        |Bakersfield |915 Sacramento Street         |CA   |93305   |\n",
      "|2643 North Sierra Avenue/Fayetteville/AR/72703    |Fayetteville|2643 North Sierra Avenue      |AR   |72703   |\n",
      "|1514 16th Street Southeast/Washington/DC/20020    |Washington  |1514 16th Street Southeast    |DC   |20020   |\n",
      "|1516 Buchanan Street Northwest/Washington/DC/20011|Washington  |1516 Buchanan Street Northwest|DC   |20011   |\n",
      "|2729 East 14th Street/Panama City/FL/32401        |Panama City |2729 East 14th Street         |FL   |32401   |\n",
      "|5306 Ritchie Highway/Baltimore/MD/21225           |Baltimore   |5306 Ritchie Highway          |MD   |21225   |\n",
      "|253 Colt Drive/Nashville/TN/37221                 |Nashville   |253 Colt Drive                |TN   |37221   |\n",
      "|86 Highland Street/Manchester/CT/06040            |Manchester  |86 Highland Street            |CT   |06040   |\n",
      "|null                                              |null        |null                          |null |null    |\n",
      "|null                                              |null        |null                          |null |null    |\n",
      "+--------------------------------------------------+------------+------------------------------+-----+--------+\n",
      "only showing top 16 rows\n",
      "\n"
     ]
    }
   ],
   "source": [
    "transactions_df = transactions_df.withColumn(\"Street\", split(col(\"shipping_address\"), \"/\").getItem(0))\n",
    "transactions_df = transactions_df.withColumn(\"City\", split(col(\"shipping_address\"), \"/\").getItem(1))\n",
    "transactions_df = transactions_df.withColumn(\"State\", split(col(\"shipping_address\"), \"/\").getItem(2))\n",
    "transactions_df = transactions_df.withColumn(\"Zip_Code\", split(col(\"shipping_address\"), \"/\").getItem(3))\n",
    "transactions_df.select(\"shipping_address\", \"city\", \"Street\", \"State\", \"Zip_Code\").show(16, truncate=False)"
   ]
  },
  {
   "cell_type": "code",
   "execution_count": 11,
   "id": "eb32c9fc-cf55-468a-8875-754bf0f0cf0e",
   "metadata": {
    "tags": []
   },
   "outputs": [
    {
     "data": {
      "text/plain": [
       "['transaction_date',\n",
       " 'transaction_id',\n",
       " 'customer_id',\n",
       " 'customer_fname',\n",
       " 'cusomter_lname',\n",
       " 'cusomter_email',\n",
       " 'sales_agent_id',\n",
       " 'branch_id',\n",
       " 'product_id',\n",
       " 'product_name',\n",
       " 'product_category',\n",
       " 'offer_1',\n",
       " 'offer_2',\n",
       " 'offer_3',\n",
       " 'offer_4',\n",
       " 'offer_5',\n",
       " 'units',\n",
       " 'unit_price',\n",
       " 'is_online',\n",
       " 'payment_method',\n",
       " 'shipping_address',\n",
       " 'load_time',\n",
       " 'source',\n",
       " 'source_path',\n",
       " 'group',\n",
       " 'Street',\n",
       " 'City',\n",
       " 'State',\n",
       " 'Zip_Code']"
      ]
     },
     "execution_count": 11,
     "metadata": {},
     "output_type": "execute_result"
    }
   ],
   "source": [
    "transactions_df.columns"
   ]
  },
  {
   "cell_type": "markdown",
   "id": "ac69cfb8-a92c-4423-96d3-22898d338cc3",
   "metadata": {},
   "source": [
    "Clean up Emails"
   ]
  },
  {
   "cell_type": "code",
   "execution_count": 12,
   "id": "cda3f282-69f5-4a72-96aa-0098178d3928",
   "metadata": {
    "tags": []
   },
   "outputs": [
    {
     "name": "stdout",
     "output_type": "stream",
     "text": [
      "+-----------------------------+----------------------------+\n",
      "|cusomter_email               |email                       |\n",
      "+-----------------------------+----------------------------+\n",
      "|mia.johnson@hotmail.com]x    |mia.johnson@hotmail.com     |\n",
      "|william.brown@gmail.com[     |william.brown@gmail.com     |\n",
      "|mia.davis@gmail.com/         |mia.davis@gmail.com         |\n",
      "|alexander.wilson@hotmail.com(|alexander.wilson@hotmail.com|\n",
      "|william.brown@gmail.com]x    |william.brown@gmail.com     |\n",
      "+-----------------------------+----------------------------+\n",
      "only showing top 5 rows\n",
      "\n"
     ]
    }
   ],
   "source": [
    "transactions_df = transactions_df.withColumn(\"customer_email\",\n",
    "    regexp_replace(regexp_extract(col(\"cusomter_email\"), r'^([^@\\s]+@[^\\s]+\\.(com|org|net))', 1), r'[^\\w.@-]', ''))\n",
    "\n",
    "transactions_df = transactions_df.withColumnRenamed(\"customer_email\", \"email\")\n",
    "\n",
    "transactions_df.select(\"cusomter_email\", \"email\").show(5, truncate=False)\n"
   ]
  },
  {
   "cell_type": "markdown",
   "id": "86a80647-d53a-436c-a97b-f7ed01ee55a7",
   "metadata": {},
   "source": [
    "Change the data type for is online column to boolean"
   ]
  },
  {
   "cell_type": "code",
   "execution_count": 13,
   "id": "38e667f5-4b6c-4a06-b007-67a87eba79f7",
   "metadata": {},
   "outputs": [],
   "source": [
    "transactions_df = transactions_df.withColumn(\"Online\", \n",
    "                                            expr(\n",
    "                                                \"\"\"\n",
    "                                            CASE\n",
    "                                                WHEN is_online = 'yes' THEN True\n",
    "                                                ELSE False\n",
    "                                            END\n",
    "                                        \"\"\"))"
   ]
  },
  {
   "cell_type": "markdown",
   "id": "8c33e973-3889-453d-a1c3-31a1feb1a5fa",
   "metadata": {},
   "source": [
    "Define Product's Offer and Discount"
   ]
  },
  {
   "cell_type": "code",
   "execution_count": 14,
   "id": "89b7a9cd-b500-4e46-997c-072a66eaf74d",
   "metadata": {},
   "outputs": [],
   "source": [
    "transactions_df = transactions_df.withColumn(\"Offer\",\n",
    "    expr(\"\"\"\n",
    "        CASE\n",
    "            WHEN offer_1 = 'TRUE' THEN 'Offer 1'\n",
    "            WHEN offer_2 = 'TRUE' THEN 'Offer 2'\n",
    "            WHEN offer_3 = 'TRUE' THEN 'Offer 3'\n",
    "            WHEN offer_4 = 'TRUE' THEN 'Offer 4'\n",
    "            WHEN offer_5 = 'TRUE' THEN 'Offer 5'\n",
    "            ELSE 'No Offers'\n",
    "        END\n",
    "    \"\"\")).withColumn(\"Discount\",\n",
    "            expr(\"\"\"\n",
    "            CASE\n",
    "            WHEN offer_1 = 'TRUE' THEN 5\n",
    "            WHEN offer_2 = 'TRUE' THEN 10\n",
    "            WHEN offer_3 = 'TRUE' THEN 15\n",
    "            WHEN offer_4 = 'TRUE' THEN 20\n",
    "            WHEN offer_5 = 'TRUE' THEN 25\n",
    "            ELSE 0\n",
    "        END\n",
    "    \"\"\"))"
   ]
  },
  {
   "cell_type": "markdown",
   "id": "c86b092e-c0aa-4d99-a659-512167688091",
   "metadata": {},
   "source": [
    "Calculate Final Price"
   ]
  },
  {
   "cell_type": "code",
   "execution_count": 15,
   "id": "3ed59252-88b6-4c2a-a564-b566961caac5",
   "metadata": {
    "tags": []
   },
   "outputs": [
    {
     "name": "stdout",
     "output_type": "stream",
     "text": [
      "+----------------+--------+-----+----------+------------------+\n",
      "|transaction_id  |Discount|units|unit_price|Final_Price       |\n",
      "+----------------+--------+-----+----------+------------------+\n",
      "|trx-322304849280|0       |8    |299.99    |2399.92           |\n",
      "|trx-480600454996|0       |9    |19.99     |179.91            |\n",
      "|trx-223446861036|0       |1    |999.99    |999.99            |\n",
      "|trx-471827640530|5       |5    |59.99     |284.9525          |\n",
      "|trx-197135297075|0       |7    |79.99     |559.93            |\n",
      "|trx-891395193336|20      |5    |29.99     |119.96            |\n",
      "|trx-477332710198|5       |9    |149.99    |1282.4145         |\n",
      "|trx-540337110687|0       |10   |129.99    |1299.9            |\n",
      "|trx-091709503415|5       |4    |49.99     |189.96200000000002|\n",
      "|trx-783039674351|10      |3    |299.99    |809.9730000000001 |\n",
      "|trx-895867959806|5       |8    |499.99    |3799.9240000000004|\n",
      "|trx-988671840285|25      |1    |29.99     |22.4925           |\n",
      "|trx-168539426259|0       |3    |59.99     |179.97            |\n",
      "|trx-824062652422|0       |1    |299.99    |299.99            |\n",
      "|trx-213046161077|0       |4    |39.99     |159.96            |\n",
      "|trx-261400342010|10      |4    |899.99    |3239.9640000000004|\n",
      "|trx-000416015056|0       |2    |59.99     |119.98            |\n",
      "|trx-293630405793|10      |4    |199.99    |719.964           |\n",
      "|trx-709898940371|0       |10   |49.99     |499.9             |\n",
      "|trx-212908165927|0       |9    |39.99     |359.91            |\n",
      "+----------------+--------+-----+----------+------------------+\n",
      "only showing top 20 rows\n",
      "\n"
     ]
    }
   ],
   "source": [
    "transactions_df = transactions_df.withColumn(\"Final_Price\",\n",
    "                                             expr(\"\"\"\n",
    "                                                  units * unit_price * (100 - Discount) / 100\n",
    "                                                  \"\"\"))\n",
    "transactions_df.select(\"transaction_id\", \"Discount\", \"units\", \"unit_price\", \"Final_Price\").show(truncate=False)"
   ]
  },
  {
   "cell_type": "markdown",
   "id": "817a7982-e301-46c6-9927-150449282613",
   "metadata": {
    "tags": []
   },
   "source": [
    "### Branches"
   ]
  },
  {
   "cell_type": "code",
   "execution_count": 16,
   "id": "835c0257-6730-4c59-882d-7b8a1a48235b",
   "metadata": {
    "tags": []
   },
   "outputs": [
    {
     "data": {
      "text/html": [
       "<table border='1'>\n",
       "<tr><th>branch_id</th><th>location</th><th>establish_date</th><th>class</th><th>load_time</th><th>source</th><th>source_path</th><th>group</th></tr>\n",
       "<tr><td>1</td><td>New York</td><td>2017-01-15 00:00:00</td><td>A</td><td>2024-06-30 08:18:...</td><td>Local File System</td><td>/data/Spark_proje...</td><td>group1</td></tr>\n",
       "<tr><td>2</td><td>Los Angeles</td><td>2016-07-28 00:00:00</td><td>B</td><td>2024-06-30 08:18:...</td><td>Local File System</td><td>/data/Spark_proje...</td><td>group1</td></tr>\n",
       "<tr><td>3</td><td>Chicago</td><td>2015-03-10 00:00:00</td><td>A</td><td>2024-06-30 08:18:...</td><td>Local File System</td><td>/data/Spark_proje...</td><td>group1</td></tr>\n",
       "<tr><td>4</td><td>Houston</td><td>2016-11-05 00:00:00</td><td>D</td><td>2024-06-30 08:18:...</td><td>Local File System</td><td>/data/Spark_proje...</td><td>group1</td></tr>\n",
       "<tr><td>5</td><td>Phoenix</td><td>2017-09-20 00:00:00</td><td>C</td><td>2024-06-30 08:18:...</td><td>Local File System</td><td>/data/Spark_proje...</td><td>group1</td></tr>\n",
       "</table>\n"
      ],
      "text/plain": [
       "+---------+-----------+-------------------+-----+--------------------+-----------------+--------------------+------+\n",
       "|branch_id|   location|     establish_date|class|           load_time|           source|         source_path| group|\n",
       "+---------+-----------+-------------------+-----+--------------------+-----------------+--------------------+------+\n",
       "|        1|   New York|2017-01-15 00:00:00|    A|2024-06-30 08:18:...|Local File System|/data/Spark_proje...|group1|\n",
       "|        2|Los Angeles|2016-07-28 00:00:00|    B|2024-06-30 08:18:...|Local File System|/data/Spark_proje...|group1|\n",
       "|        3|    Chicago|2015-03-10 00:00:00|    A|2024-06-30 08:18:...|Local File System|/data/Spark_proje...|group1|\n",
       "|        4|    Houston|2016-11-05 00:00:00|    D|2024-06-30 08:18:...|Local File System|/data/Spark_proje...|group1|\n",
       "|        5|    Phoenix|2017-09-20 00:00:00|    C|2024-06-30 08:18:...|Local File System|/data/Spark_proje...|group1|\n",
       "+---------+-----------+-------------------+-----+--------------------+-----------------+--------------------+------+"
      ]
     },
     "execution_count": 16,
     "metadata": {},
     "output_type": "execute_result"
    }
   ],
   "source": [
    "branches_df"
   ]
  },
  {
   "cell_type": "markdown",
   "id": "c62caf42-8434-4226-bfce-a7d96af63e6d",
   "metadata": {},
   "source": [
    "### Sales Agents"
   ]
  },
  {
   "cell_type": "code",
   "execution_count": 17,
   "id": "d6e1e37e-72d4-4b6a-82cb-ed5bc04fc748",
   "metadata": {
    "tags": []
   },
   "outputs": [
    {
     "data": {
      "text/html": [
       "<table border='1'>\n",
       "<tr><th>sales_person_id</th><th>name</th><th>hire_date</th><th>load_time</th><th>source</th><th>source_path</th><th>group</th></tr>\n",
       "<tr><td>1</td><td>John Doe</td><td>2020-06-03 00:00:00</td><td>2024-06-30 08:18:...</td><td>Local File System</td><td>/data/Spark_proje...</td><td>group1</td></tr>\n",
       "<tr><td>2</td><td>Jane Smith</td><td>2018-05-13 00:00:00</td><td>2024-06-30 08:18:...</td><td>Local File System</td><td>/data/Spark_proje...</td><td>group1</td></tr>\n",
       "<tr><td>3</td><td>Michael Johnson</td><td>2021-10-03 00:00:00</td><td>2024-06-30 08:18:...</td><td>Local File System</td><td>/data/Spark_proje...</td><td>group1</td></tr>\n",
       "<tr><td>4</td><td>Emily Brown</td><td>2020-10-25 00:00:00</td><td>2024-06-30 08:18:...</td><td>Local File System</td><td>/data/Spark_proje...</td><td>group1</td></tr>\n",
       "<tr><td>5</td><td>David Wilson</td><td>2021-04-08 00:00:00</td><td>2024-06-30 08:18:...</td><td>Local File System</td><td>/data/Spark_proje...</td><td>group1</td></tr>\n",
       "<tr><td>6</td><td>Emma Taylor</td><td>2019-03-28 00:00:00</td><td>2024-06-30 08:18:...</td><td>Local File System</td><td>/data/Spark_proje...</td><td>group1</td></tr>\n",
       "<tr><td>7</td><td>Christopher Miller</td><td>2020-01-11 00:00:00</td><td>2024-06-30 08:18:...</td><td>Local File System</td><td>/data/Spark_proje...</td><td>group1</td></tr>\n",
       "<tr><td>8</td><td>Olivia Davis</td><td>2021-10-24 00:00:00</td><td>2024-06-30 08:18:...</td><td>Local File System</td><td>/data/Spark_proje...</td><td>group1</td></tr>\n",
       "<tr><td>9</td><td>Daniel Martinez</td><td>2018-10-08 00:00:00</td><td>2024-06-30 08:18:...</td><td>Local File System</td><td>/data/Spark_proje...</td><td>group1</td></tr>\n",
       "<tr><td>10</td><td>Sophia Moore</td><td>2019-05-25 00:00:00</td><td>2024-06-30 08:18:...</td><td>Local File System</td><td>/data/Spark_proje...</td><td>group1</td></tr>\n",
       "</table>\n"
      ],
      "text/plain": [
       "+---------------+------------------+-------------------+--------------------+-----------------+--------------------+------+\n",
       "|sales_person_id|              name|          hire_date|           load_time|           source|         source_path| group|\n",
       "+---------------+------------------+-------------------+--------------------+-----------------+--------------------+------+\n",
       "|              1|          John Doe|2020-06-03 00:00:00|2024-06-30 08:18:...|Local File System|/data/Spark_proje...|group1|\n",
       "|              2|        Jane Smith|2018-05-13 00:00:00|2024-06-30 08:18:...|Local File System|/data/Spark_proje...|group1|\n",
       "|              3|   Michael Johnson|2021-10-03 00:00:00|2024-06-30 08:18:...|Local File System|/data/Spark_proje...|group1|\n",
       "|              4|       Emily Brown|2020-10-25 00:00:00|2024-06-30 08:18:...|Local File System|/data/Spark_proje...|group1|\n",
       "|              5|      David Wilson|2021-04-08 00:00:00|2024-06-30 08:18:...|Local File System|/data/Spark_proje...|group1|\n",
       "|              6|       Emma Taylor|2019-03-28 00:00:00|2024-06-30 08:18:...|Local File System|/data/Spark_proje...|group1|\n",
       "|              7|Christopher Miller|2020-01-11 00:00:00|2024-06-30 08:18:...|Local File System|/data/Spark_proje...|group1|\n",
       "|              8|      Olivia Davis|2021-10-24 00:00:00|2024-06-30 08:18:...|Local File System|/data/Spark_proje...|group1|\n",
       "|              9|   Daniel Martinez|2018-10-08 00:00:00|2024-06-30 08:18:...|Local File System|/data/Spark_proje...|group1|\n",
       "|             10|      Sophia Moore|2019-05-25 00:00:00|2024-06-30 08:18:...|Local File System|/data/Spark_proje...|group1|\n",
       "+---------------+------------------+-------------------+--------------------+-----------------+--------------------+------+"
      ]
     },
     "execution_count": 17,
     "metadata": {},
     "output_type": "execute_result"
    }
   ],
   "source": [
    "sales_agents_df"
   ]
  },
  {
   "cell_type": "markdown",
   "id": "079f2c9b-a4a2-43c1-9804-23912ddd6a07",
   "metadata": {},
   "source": [
    "### Preparing the DWH Model"
   ]
  },
  {
   "cell_type": "markdown",
   "id": "3fe3e3a4-403e-456d-a92e-5ee52a8683df",
   "metadata": {},
   "source": [
    "![Sample Image](./image.png)\n"
   ]
  },
  {
   "cell_type": "code",
   "execution_count": 18,
   "id": "a2b381ef-4353-4461-a184-4844801b64f5",
   "metadata": {},
   "outputs": [],
   "source": [
    "dim_agents = sales_agents_df.select(\"sales_person_id\", \"name\", \"hire_date\") \\\n",
    "                            .withColumn(\"hire_date\", col(\"hire_date\").cast(\"date\")) \\\n",
    "                            .withColumnRenamed(\"sales_person_id\", \"agent_id\")"
   ]
  },
  {
   "cell_type": "code",
   "execution_count": 19,
   "id": "8120ee67-286e-43a5-b85b-a2887ca168df",
   "metadata": {},
   "outputs": [],
   "source": [
    "dim_branch = branches_df.select(\"branch_id\", \"location\", \"establish_date\", \"class\") \\\n",
    "                         .withColumn(\"establish_date\", col(\"establish_date\").cast(\"date\"))"
   ]
  },
  {
   "cell_type": "code",
   "execution_count": 20,
   "id": "cf3962af-3f03-47ec-955e-9162a982db11",
   "metadata": {},
   "outputs": [],
   "source": [
    "dim_product = transactions_df.select('product_id', 'product_name', 'product_category').distinct()"
   ]
  },
  {
   "cell_type": "code",
   "execution_count": 21,
   "id": "96273d4e-7cf8-4d56-843a-d080c020881b",
   "metadata": {},
   "outputs": [],
   "source": [
    "schema = StructType([\n",
    "    StructField(\"Offer_ID\", IntegerType(), nullable=False),\n",
    "    StructField(\"Offer_name\", StringType(), nullable=False),\n",
    "    StructField(\"Discount\", FloatType(), nullable=False)\n",
    "])\n",
    "\n",
    "# Create the data\n",
    "data = [\n",
    "    (0, \"No Offers\", 0.0),\n",
    "    (1, \"Offer 1\", 0.05),\n",
    "    (2, \"Offer 2\", 0.10),\n",
    "    (3, \"Offer 3\", 0.15),\n",
    "    (4, \"Offer 4\", 0.20),\n",
    "    (5, \"Offer 5\", 0.25)\n",
    "]\n",
    "dim_offer = spark.createDataFrame(data, schema)"
   ]
  },
  {
   "cell_type": "code",
   "execution_count": 22,
   "id": "bad2c0b5-a61f-4a35-b755-73027f23b330",
   "metadata": {},
   "outputs": [],
   "source": [
    "dim_customer = transactions_df.select('customer_id', 'customer_fname', 'cusomter_lname', 'email').distinct()"
   ]
  },
  {
   "cell_type": "markdown",
   "id": "151bb2ba-4407-4464-82fc-88855ffa07fd",
   "metadata": {},
   "source": [
    "Creating a Location Dimension"
   ]
  },
  {
   "cell_type": "code",
   "execution_count": 23,
   "id": "3d66cc21-daec-4b8d-8f83-d032d7fc6488",
   "metadata": {},
   "outputs": [],
   "source": [
    "dim_location = transactions_df.select('Zip_Code', 'City', 'Street', 'State').distinct()"
   ]
  },
  {
   "cell_type": "markdown",
   "id": "4630f8a0-933d-4317-816f-50fbd01475c1",
   "metadata": {},
   "source": [
    "Insert a new Location Indicating a Branch (Non-Online) Purchase"
   ]
  },
  {
   "cell_type": "code",
   "execution_count": 24,
   "id": "cac4945c-8e9b-410f-a5b7-9c4d2e891b71",
   "metadata": {},
   "outputs": [],
   "source": [
    "schema = dim_location.schema\n",
    "online_purchase = [(\"00000\", \"None\", \"None\", \"Online\")]\n",
    "online_purchase = spark.createDataFrame(online_purchase, schema)\n",
    "dim_location = dim_location.union(online_purchase)"
   ]
  },
  {
   "cell_type": "markdown",
   "id": "d7e34a71-9f5f-41a2-8081-9d9e8e6542c5",
   "metadata": {},
   "source": [
    "#### Preparing the fact table"
   ]
  },
  {
   "cell_type": "code",
   "execution_count": 25,
   "id": "e8d1dfe3-5e61-4c88-bf53-42a2246192b3",
   "metadata": {},
   "outputs": [],
   "source": [
    "transactions_df = transactions_df.withColumn(\"Offer_ID\",\n",
    "                                             expr(\n",
    "                                             \"\"\"\n",
    "                                            CASE\n",
    "                                                WHEN Offer = 'Offer 1' THEN 1\n",
    "                                                WHEN Offer = 'Offer 2' THEN 2\n",
    "                                                WHEN Offer = 'Offer 3' THEN 3\n",
    "                                                WHEN Offer = 'Offer 4' THEN 4\n",
    "                                                WHEN Offer = 'Offer 5' THEN 5\n",
    "                                                ELSE 0\n",
    "                                            END\n",
    "                                             \"\"\"))"
   ]
  },
  {
   "cell_type": "code",
   "execution_count": 26,
   "id": "4b59f332-e894-4869-b87e-af282c503ab3",
   "metadata": {},
   "outputs": [],
   "source": [
    "transactions_df = transactions_df.select(\n",
    "                     'transaction_date',\n",
    "                     'transaction_id',\n",
    "                     'payment_method',\n",
    "                     'Online',\n",
    "                     'customer_id',\n",
    "                     'sales_agent_id',\n",
    "                     'branch_id',\n",
    "                     'product_id',\n",
    "                     'Offer_ID',\n",
    "                     'Zip_Code',\n",
    "                     'units',\n",
    "                     'unit_price',\n",
    "                     'Final_Price'\n",
    ")"
   ]
  },
  {
   "cell_type": "code",
   "execution_count": 31,
   "id": "0117b35f-21e4-4291-a750-42e0f6404465",
   "metadata": {},
   "outputs": [],
   "source": [
    "transactions_df = transactions_df.withColumn(\"Discount\",\n",
    "                                             expr(\"\"\"\n",
    "                                             unit_price * units - Final_Price\n",
    "                                                 \"\"\")).fillna({\"Zip_Code\": \"00000\"})"
   ]
  },
  {
   "cell_type": "markdown",
   "id": "f2cd9cf3-1968-4344-80e1-cbd590e44e41",
   "metadata": {},
   "source": [
    "<hr>"
   ]
  },
  {
   "cell_type": "markdown",
   "id": "76067c94-606e-4f09-a5b3-897b6012d3d4",
   "metadata": {},
   "source": [
    "### Insert Data into Hive"
   ]
  },
  {
   "cell_type": "markdown",
   "id": "b52542a4-c5c5-4e9a-9794-adc378cf9055",
   "metadata": {},
   "source": [
    "#### Set up tables for Initial Load"
   ]
  },
  {
   "cell_type": "code",
   "execution_count": 188,
   "id": "42a1319f-c7f1-4137-adb7-076e26683e6a",
   "metadata": {},
   "outputs": [],
   "source": [
    "def create_hdfs_directory(path): \n",
    "      subprocess.run([\"hdfs\", \"dfs\", \"-mkdir\", \"-p\", path])\n",
    "\n",
    "create_hdfs_directory(\"/user/hive/warehouse/external\")"
   ]
  },
  {
   "cell_type": "code",
   "execution_count": 189,
   "id": "1df55a0e-91be-4af4-9ae1-5a0c5f8589d3",
   "metadata": {},
   "outputs": [],
   "source": [
    "tables = {'dim_product': dim_product,\n",
    "                   'dim_location': dim_location,\n",
    "                   'dim_customer': dim_customer,\n",
    "                   'dim_offer': dim_offer,\n",
    "                   'dim_branch': dim_branch,\n",
    "                   'dim_agents': dim_agents,\n",
    "                   'transactions_fact': transactions_df}\n",
    "keys = {'dim_product': \"product_id\",\n",
    "                   'dim_location': \"zip_code\",\n",
    "                   'dim_customer': \"customer_id\",\n",
    "                   'dim_offer': \"Offer_ID\",\n",
    "                   'dim_branch': \"branch_id\",\n",
    "                   'dim_agents': \"agent_id\"}"
   ]
  },
  {
   "cell_type": "code",
   "execution_count": 190,
   "id": "c1f4e4e0-88cc-48a4-9d03-7d8a20b480a3",
   "metadata": {},
   "outputs": [],
   "source": [
    "def SCD_T1(table_name, dataframe):\n",
    "    dataframe.registerTempTable(f\"temp_{table_name}\")\n",
    "    return spark.sql(f\"\"\"\n",
    "                SELECT OT.* from {table_name} OT RIGHT OUTER join temp_{table_name} TT\n",
    "                on OT.{keys[table_name]} = TT.{keys[table_name]}\n",
    "                WHERE OT.{keys[table_name]} IS NULL\n",
    "                  \"\"\")"
   ]
  },
  {
   "cell_type": "code",
   "execution_count": 193,
   "id": "195fddb8-6655-49c0-a674-e450ed0aa5d4",
   "metadata": {},
   "outputs": [],
   "source": [
    "for table in tables:\n",
    "    if not spark.sql(f\"SHOW TABLES IN default LIKE '{table}'\").count():\n",
    "        tables[table].write.mode(\"overwrite\").option(\n",
    "        \"path\", f\"/user/hive/warehouse/external/{table}\"\n",
    "        ).saveAsTable(f\"default.{table}\")\n",
    "    else:\n",
    "        if table == 'transactions_fact':\n",
    "            transactions_df.write.mode(\"append\").option(\n",
    "                          \"path\", f\"/user/hive/warehouse/external/transactions_fact\"\n",
    "                           ).saveAsTable(f\"default.transactions_fact\")\n",
    "        else:\n",
    "            df = SCD_T1(table, tables[table])\n",
    "            df.write.mode(\"append\").option(\n",
    "                          \"path\", f\"/user/hive/warehouse/external/{table}\"\n",
    "                           ).saveAsTable(f\"default.{table}\")"
   ]
  },
  {
   "cell_type": "markdown",
   "id": "4f4a136e-bb7f-4365-b4dd-dda259e0c30a",
   "metadata": {},
   "source": [
    "<hr>"
   ]
  }
 ],
 "metadata": {
  "kernelspec": {
   "display_name": "Pyspark 2",
   "language": "python",
   "name": "pyspark2"
  },
  "language_info": {
   "codemirror_mode": {
    "name": "ipython",
    "version": 3
   },
   "file_extension": ".py",
   "mimetype": "text/x-python",
   "name": "python",
   "nbconvert_exporter": "python",
   "pygments_lexer": "ipython3",
   "version": "3.6.9"
  }
 },
 "nbformat": 4,
 "nbformat_minor": 5
}
