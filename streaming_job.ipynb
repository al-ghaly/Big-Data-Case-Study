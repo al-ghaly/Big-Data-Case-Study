{
 "cells": [
  {
   "cell_type": "code",
   "execution_count": 1,
   "id": "755a8bd5-2e5b-4686-b21f-eb9cdd96e719",
   "metadata": {},
   "outputs": [
    {
     "name": "stderr",
     "output_type": "stream",
     "text": [
      "/home/itversity/.local/lib/python3.6/site-packages/pyspark/context.py:238: FutureWarning: Python 3.6 support is deprecated in Spark 3.2.\n",
      "  FutureWarning\n"
     ]
    },
    {
     "name": "stdout",
     "output_type": "stream",
     "text": [
      "root\n",
      " |-- eventType: string (nullable = true)\n",
      " |-- customerId: string (nullable = true)\n",
      " |-- productId: string (nullable = true)\n",
      " |-- timestamp: timestamp (nullable = true)\n",
      " |-- metadata: map (nullable = true)\n",
      " |    |-- key: string\n",
      " |    |-- value: string (valueContainsNull = true)\n",
      " |-- quantity: integer (nullable = true)\n",
      " |-- totalAmount: double (nullable = true)\n",
      " |-- paymentMethod: string (nullable = true)\n",
      " |-- recommendedProductId: string (nullable = true)\n",
      " |-- algorithm: string (nullable = true)\n",
      "\n",
      "+-------------------+----------+---------+-------------------+-----------------------------------------------------+--------+-----------+-------------+--------------------+-----------------------+\n",
      "|eventType          |customerId|productId|timestamp          |metadata                                             |quantity|totalAmount|paymentMethod|recommendedProductId|algorithm              |\n",
      "+-------------------+----------+---------+-------------------+-----------------------------------------------------+--------+-----------+-------------+--------------------+-----------------------+\n",
      "|purchase           |53997     |3097     |2024-06-29 01:04:20|{}                                                   |1       |161.93     |PayPal       |None                |None                   |\n",
      "|productView        |42426     |1354     |2024-06-29 01:04:23|{category -> Clothing, source -> Search}             |0       |0.0        |Unknown      |None                |None                   |\n",
      "|recommendationClick|72654     |6986     |2024-06-29 01:04:24|{}                                                   |0       |0.0        |Unknown      |3068                |content_based          |\n",
      "|purchase           |67752     |9944     |2024-06-29 01:04:25|{}                                                   |3       |438.18     |Credit Card  |None                |None                   |\n",
      "|productView        |91876     |9025     |2024-06-29 01:04:29|{category -> Home & Kitchen, source -> Advertisement}|0       |0.0        |Unknown      |None                |None                   |\n",
      "|addToCart          |31471     |4705     |2024-06-29 01:04:31|{}                                                   |1       |0.0        |Unknown      |None                |None                   |\n",
      "|productView        |40432     |7266     |2024-06-29 01:04:36|{category -> Electronics, source -> Advertisement}   |0       |0.0        |Unknown      |None                |None                   |\n",
      "|recommendationClick|12916     |8833     |2024-06-29 01:04:39|{}                                                   |0       |0.0        |Unknown      |6277                |collaborative_filtering|\n",
      "|purchase           |96139     |8599     |2024-06-29 01:04:41|{}                                                   |2       |197.09     |Credit Card  |None                |None                   |\n",
      "|addToCart          |77160     |4271     |2024-06-29 01:04:44|{}                                                   |1       |0.0        |Unknown      |None                |None                   |\n",
      "|productView        |88050     |5577     |2024-06-29 01:04:44|{category -> Clothing, source -> Advertisement}      |0       |0.0        |Unknown      |None                |None                   |\n",
      "|purchase           |47129     |6700     |2024-06-29 01:04:46|{}                                                   |5       |277.97     |Credit Card  |None                |None                   |\n",
      "|addToCart          |21422     |9174     |2024-06-29 01:04:47|{}                                                   |2       |0.0        |Unknown      |None                |None                   |\n",
      "|purchase           |30969     |1457     |2024-06-29 01:04:48|{}                                                   |5       |249.53     |PayPal       |None                |None                   |\n",
      "|recommendationClick|77504     |3453     |2024-06-29 01:04:51|{}                                                   |0       |0.0        |Unknown      |4921                |collaborative_filtering|\n",
      "|recommendationClick|50583     |5008     |2024-06-29 01:04:53|{}                                                   |0       |0.0        |Unknown      |2947                |content_based          |\n",
      "|productView        |68683     |6716     |2024-06-29 01:04:55|{category -> Clothing, source -> Search}             |0       |0.0        |Unknown      |None                |None                   |\n",
      "|recommendationClick|21062     |5068     |2024-06-29 01:04:57|{}                                                   |0       |0.0        |Unknown      |2607                |collaborative_filtering|\n",
      "|addToCart          |79039     |1691     |2024-06-29 01:04:57|{}                                                   |5       |0.0        |Unknown      |None                |None                   |\n",
      "|purchase           |41566     |1051     |2024-06-29 01:05:02|{}                                                   |4       |48.06      |PayPal       |None                |None                   |\n",
      "+-------------------+----------+---------+-------------------+-----------------------------------------------------+--------+-----------+-------------+--------------------+-----------------------+\n",
      "only showing top 20 rows\n",
      "\n"
     ]
    }
   ],
   "source": [
    "from pyspark.sql import SparkSession\n",
    "\n",
    "# Initialize SparkSession\n",
    "spark = SparkSession.builder \\\n",
    "    .appName(\"ReadParquetFromHDFS\") \\\n",
    "    .config(\"spark.hadoop.fs.defaultFS\", \"hdfs://localhost:9000\") \\\n",
    "    .getOrCreate()\n",
    "\n",
    "# Specify the path to your Parquet file\n",
    "parquet_path = \"/user/itversity/prj/date=2024-06-29/hour=01\"\n",
    "\n",
    "# Read the Parquet file into a DataFrame\n",
    "df = spark.read.parquet(parquet_path)\n",
    "\n",
    "# Show the schema and preview of the data\n",
    "df.printSchema()\n",
    "df.show(truncate=False)\n",
    "\n",
    "# Stop the SparkSession\n",
    "spark.stop()\n"
   ]
  },
  {
   "cell_type": "code",
   "execution_count": null,
   "id": "2e9a2215-baf5-4dd1-bb46-5603761fce4d",
   "metadata": {},
   "outputs": [],
   "source": []
  }
 ],
 "metadata": {
  "kernelspec": {
   "display_name": "Python 3",
   "language": "python",
   "name": "python3"
  },
  "language_info": {
   "codemirror_mode": {
    "name": "ipython",
    "version": 3
   },
   "file_extension": ".py",
   "mimetype": "text/x-python",
   "name": "python",
   "nbconvert_exporter": "python",
   "pygments_lexer": "ipython3",
   "version": "3.6.9"
  }
 },
 "nbformat": 4,
 "nbformat_minor": 5
}
