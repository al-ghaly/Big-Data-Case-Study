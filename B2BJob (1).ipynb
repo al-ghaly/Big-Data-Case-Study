{
 "cells": [
  {
   "cell_type": "code",
   "execution_count": 34,
   "id": "35a4d319-a8a3-41dd-b9fc-3f707cfcb648",
   "metadata": {},
   "outputs": [],
   "source": [
    "from pyspark.sql import SparkSession\n",
    "from pyspark.sql.functions import broadcast\n",
    "from datetime import datetime"
   ]
  },
  {
   "cell_type": "code",
   "execution_count": 2,
   "id": "839292b0-1f73-4200-8799-71b6cf32c7a4",
   "metadata": {},
   "outputs": [],
   "source": [
    "spark = SparkSession\\\n",
    "    .builder\\\n",
    "    .master(\"local[*]\")\\\n",
    "    .appName(\"Sales_processing\")\\\n",
    "    .enableHiveSupport() \\\n",
    "    .config(\"spark.eventLog.logBlockUpdates.enabled\", True)\\\n",
    "    .getOrCreate()\n",
    "\n",
    "sc = spark.sparkContext"
   ]
  },
  {
   "cell_type": "code",
   "execution_count": 3,
   "id": "a1cb458c-19ec-4db5-baa9-fa58dc29b6bc",
   "metadata": {},
   "outputs": [
    {
     "name": "stdout",
     "output_type": "stream",
     "text": [
      "+-----------+----------------+----------------+--------------+---------+----------+-----+----------+------------------+\n",
      "|customer_id|transaction_date|  transaction_id|sales_agent_id|branch_id|product_id|units|unit_price|       final_price|\n",
      "+-----------+----------------+----------------+--------------+---------+----------+-----+----------+------------------+\n",
      "|      85469|      2023-05-20|trx-152546429674|             1|        2|        22|   10|     79.99|             799.9|\n",
      "|      85512|      2022-10-25|trx-291375327542|             3|        1|        24|    5|     49.99|199.95999925509096|\n",
      "|      85484|      2022-02-05|trx-312507679871|            10|        3|         4|    1|     99.99|             99.99|\n",
      "|      85528|      2023-10-20|trx-193384855491|             7|        2|        25|    8|    499.99|           3999.92|\n",
      "|      85500|      2022-11-17|trx-831626097654|             5|        1|        14|   10|    399.99| 3399.914976158738|\n",
      "|      85545|      2022-09-27|trx-158496122054|             4|        5|        14|    6|    399.99|          1799.955|\n",
      "|      85561|      2022-04-21|trx-722817999024|             4|        1|        30|    6|     24.99|119.95199955314398|\n",
      "|      85520|      2023-04-28|trx-813287633702|             1|        1|        26|    4|    199.99|            799.96|\n",
      "|      85488|      2023-03-08|trx-219568257432|             6|        2|        18|   10|    149.99|            1499.9|\n",
      "|      85466|      2023-06-17|trx-352160720823|             5|        2|        16|    8|     39.99|            319.92|\n",
      "|      85559|      2022-08-28|trx-895389231641|             6|        5|        14|    6|    399.99|           2399.94|\n",
      "|      85527|      2023-11-19|trx-820309386661|             7|        2|        22|    6|     79.99|479.93999999999994|\n",
      "|      85502|      2022-03-22|trx-974983174642|             4|        5|         5|   10|     19.99|189.90499985106288|\n",
      "|      85508|      2022-09-27|trx-119174604031|             1|        3|         9|    1|    129.99|            129.99|\n",
      "|      85549|      2022-04-03|trx-474525094645|             2|        3|         2|    9|    699.99|           6299.91|\n",
      "|      85483|      2022-12-14|trx-355633008132|             9|        5|        27|    9|     29.99|242.91899959780272|\n",
      "|      85496|      2023-04-14|trx-490311940006|             8|        2|        19|    2|     29.99| 53.98199991062283|\n",
      "|      85507|      2023-01-19|trx-132205124356|             2|        2|        28|    3|     19.99|             59.97|\n",
      "|      85543|      2023-10-14|trx-276319959382|            10|        5|        24|   10|     49.99|499.90000000000003|\n",
      "|      85518|      2022-03-24|trx-024853282614|             1|        4|         3|    1|    299.99|254.99149821192026|\n",
      "+-----------+----------------+----------------+--------------+---------+----------+-----+----------+------------------+\n",
      "only showing top 20 rows\n",
      "\n"
     ]
    }
   ],
   "source": [
    "fact_df_read = spark.read.table(\"default.sales_fact\")\n",
    "\n",
    "# Show the first few rows of the DataFrame\n",
    "fact_df_read.show()\n"
   ]
  },
  {
   "cell_type": "code",
   "execution_count": 4,
   "id": "6e472d4d-24bd-43d1-ac0a-2a8801394f7e",
   "metadata": {},
   "outputs": [
    {
     "name": "stdout",
     "output_type": "stream",
     "text": [
      "+---------------+------------------+----------+\n",
      "|sales_person_id|              name| hire_date|\n",
      "+---------------+------------------+----------+\n",
      "|              1|          John Doe|2020-06-03|\n",
      "|              2|        Jane Smith|2018-05-13|\n",
      "|              3|   Michael Johnson|2021-10-03|\n",
      "|              4|       Emily Brown|2020-10-25|\n",
      "|              5|      David Wilson|2021-04-08|\n",
      "|              6|       Emma Taylor|2019-03-28|\n",
      "|              7|Christopher Miller|2020-01-11|\n",
      "|              8|      Olivia Davis|2021-10-24|\n",
      "|              9|   Daniel Martinez|2018-10-08|\n",
      "|             10|      Sophia Moore|2019-05-25|\n",
      "+---------------+------------------+----------+\n",
      "\n"
     ]
    }
   ],
   "source": [
    "spark.sql(\"REFRESH TABLE default.agents_dim\")\n",
    "agents_dim = spark.read.table(\"default.agents_dim2\")\n",
    "\n",
    "# Show the first few rows of the DataFrame\n",
    "agents_dim.show()\n"
   ]
  },
  {
   "cell_type": "code",
   "execution_count": 5,
   "id": "9708463e-da59-4a5d-a97e-ee1db7f6a3a2",
   "metadata": {},
   "outputs": [
    {
     "name": "stdout",
     "output_type": "stream",
     "text": [
      "+----------+-----------------+----------------+\n",
      "|product_id|     product_name|product_category|\n",
      "+----------+-----------------+----------------+\n",
      "|        29|Hair Straightener|      Appliances|\n",
      "|        30|  Electric Kettle|      Appliances|\n",
      "|        25|  Washing Machine|      Appliances|\n",
      "|        26|   Vacuum Cleaner|      Appliances|\n",
      "|        22|     Coffee Maker|      Appliances|\n",
      "|         2|       Smartphone|     Electronics|\n",
      "|         4|       Headphones|     Electronics|\n",
      "|        28|       Hair Dryer|      Appliances|\n",
      "|        23|          Toaster|      Appliances|\n",
      "|        14|           Camera|     Electronics|\n",
      "|        24|          Blender|      Appliances|\n",
      "|         3|           Tablet|     Electronics|\n",
      "|        19|          Sandals|        Footwear|\n",
      "|         5|          T-Shirt|        Clothing|\n",
      "|        15|           Hoodie|        Clothing|\n",
      "|        17|           Blouse|        Clothing|\n",
      "|        27|             Iron|      Appliances|\n",
      "|         9|            Boots|        Footwear|\n",
      "|         6|            Jeans|        Clothing|\n",
      "|        20|            Heels|        Footwear|\n",
      "+----------+-----------------+----------------+\n",
      "only showing top 20 rows\n",
      "\n"
     ]
    }
   ],
   "source": [
    "products_dim = spark.read.table(\"default.products_dim2\")\n",
    "\n",
    "# Show the first few rows of the DataFrame\n",
    "products_dim.show()\n"
   ]
  },
  {
   "cell_type": "code",
   "execution_count": 24,
   "id": "8515c749-763e-4bc5-a3a3-5f827f7bd246",
   "metadata": {},
   "outputs": [],
   "source": [
    "from pyspark.sql.functions import sum\n",
    "result_df = fact_df_read.groupBy(\"sales_agent_id\", \"product_id\").agg(\n",
    "    sum(\"units\").alias(\"total_units_sold\")\n",
    ")"
   ]
  },
  {
   "cell_type": "code",
   "execution_count": 25,
   "id": "2caa5c2e-7321-4aff-8092-0093cdd5e391",
   "metadata": {},
   "outputs": [
    {
     "name": "stdout",
     "output_type": "stream",
     "text": [
      "+--------------+----------+----------------+\n",
      "|sales_agent_id|product_id|total_units_sold|\n",
      "+--------------+----------+----------------+\n",
      "|             3|        30|              48|\n",
      "|             3|        15|              28|\n",
      "|            10|         2|              32|\n",
      "|             5|        16|              30|\n",
      "|             9|        10|              26|\n",
      "|             4|        10|              40|\n",
      "|             9|        16|               6|\n",
      "|             6|        20|              32|\n",
      "|             6|         1|              22|\n",
      "|             3|         1|              42|\n",
      "|             7|         4|              52|\n",
      "|             2|         2|              94|\n",
      "|             1|        25|              30|\n",
      "|             9|         4|              50|\n",
      "|             6|        22|               8|\n",
      "|             8|         3|              18|\n",
      "|             2|        26|              20|\n",
      "|             6|        25|               4|\n",
      "|            10|        15|              10|\n",
      "|             3|        13|              14|\n",
      "+--------------+----------+----------------+\n",
      "only showing top 20 rows\n",
      "\n"
     ]
    }
   ],
   "source": [
    "result_df.show()\n"
   ]
  },
  {
   "cell_type": "code",
   "execution_count": 26,
   "id": "2324c050-e771-476a-96ce-bdd7e0112812",
   "metadata": {},
   "outputs": [],
   "source": [
    "#joing agents with sales_transcations\n",
    "#agesnts dimensions is a small table so we can broadcast it\n",
    "result = result_df.join(broadcast(agents_dim), result_df.sales_agent_id == agents_dim.sales_person_id)"
   ]
  },
  {
   "cell_type": "code",
   "execution_count": 27,
   "id": "3695eb6e-278b-4142-b225-23de7e4eb648",
   "metadata": {},
   "outputs": [
    {
     "name": "stdout",
     "output_type": "stream",
     "text": [
      "+--------------+----------+----------------+---------------+------------------+----------+\n",
      "|sales_agent_id|product_id|total_units_sold|sales_person_id|              name| hire_date|\n",
      "+--------------+----------+----------------+---------------+------------------+----------+\n",
      "|             3|        30|              48|              3|   Michael Johnson|2021-10-03|\n",
      "|             3|        15|              28|              3|   Michael Johnson|2021-10-03|\n",
      "|            10|         2|              32|             10|      Sophia Moore|2019-05-25|\n",
      "|             5|        16|              30|              5|      David Wilson|2021-04-08|\n",
      "|             9|        10|              26|              9|   Daniel Martinez|2018-10-08|\n",
      "|             4|        10|              40|              4|       Emily Brown|2020-10-25|\n",
      "|             9|        16|               6|              9|   Daniel Martinez|2018-10-08|\n",
      "|             6|        20|              32|              6|       Emma Taylor|2019-03-28|\n",
      "|             6|         1|              22|              6|       Emma Taylor|2019-03-28|\n",
      "|             3|         1|              42|              3|   Michael Johnson|2021-10-03|\n",
      "|             7|         4|              52|              7|Christopher Miller|2020-01-11|\n",
      "|             2|         2|              94|              2|        Jane Smith|2018-05-13|\n",
      "|             1|        25|              30|              1|          John Doe|2020-06-03|\n",
      "|             9|         4|              50|              9|   Daniel Martinez|2018-10-08|\n",
      "|             6|        22|               8|              6|       Emma Taylor|2019-03-28|\n",
      "|             8|         3|              18|              8|      Olivia Davis|2021-10-24|\n",
      "|             2|        26|              20|              2|        Jane Smith|2018-05-13|\n",
      "|             6|        25|               4|              6|       Emma Taylor|2019-03-28|\n",
      "|            10|        15|              10|             10|      Sophia Moore|2019-05-25|\n",
      "|             3|        13|              14|              3|   Michael Johnson|2021-10-03|\n",
      "+--------------+----------+----------------+---------------+------------------+----------+\n",
      "only showing top 20 rows\n",
      "\n"
     ]
    }
   ],
   "source": [
    "result.show()"
   ]
  },
  {
   "cell_type": "code",
   "execution_count": 28,
   "id": "70669d2e-1a1a-4c6d-ba09-5fa3443e2ff9",
   "metadata": {},
   "outputs": [
    {
     "data": {
      "text/plain": [
       "30"
      ]
     },
     "execution_count": 28,
     "metadata": {},
     "output_type": "execute_result"
    }
   ],
   "source": [
    "products_dim.count()"
   ]
  },
  {
   "cell_type": "code",
   "execution_count": 29,
   "id": "94041ae6-4121-43ec-8214-c94c0baaa42d",
   "metadata": {},
   "outputs": [],
   "source": [
    "#products aslo is a small table so we can broadcast it too\n",
    "final_report = result.join(broadcast(products_dim), result.product_id == products_dim.product_id)"
   ]
  },
  {
   "cell_type": "code",
   "execution_count": 30,
   "id": "65dd8e70-e375-487d-bc2c-1a09efb7cec9",
   "metadata": {},
   "outputs": [
    {
     "name": "stdout",
     "output_type": "stream",
     "text": [
      "+--------------+----------+----------------+---------------+------------------+----------+----------+---------------+----------------+\n",
      "|sales_agent_id|product_id|total_units_sold|sales_person_id|              name| hire_date|product_id|   product_name|product_category|\n",
      "+--------------+----------+----------------+---------------+------------------+----------+----------+---------------+----------------+\n",
      "|             3|        30|              48|              3|   Michael Johnson|2021-10-03|        30|Electric Kettle|      Appliances|\n",
      "|             3|        15|              28|              3|   Michael Johnson|2021-10-03|        15|         Hoodie|        Clothing|\n",
      "|            10|         2|              32|             10|      Sophia Moore|2019-05-25|         2|     Smartphone|     Electronics|\n",
      "|             5|        16|              30|              5|      David Wilson|2021-04-08|        16|          Skirt|        Clothing|\n",
      "|             9|        10|              26|              9|   Daniel Martinez|2018-10-08|        10|        Sandals|        Footwear|\n",
      "|             4|        10|              40|              4|       Emily Brown|2020-10-25|        10|        Sandals|        Footwear|\n",
      "|             9|        16|               6|              9|   Daniel Martinez|2018-10-08|        16|          Skirt|        Clothing|\n",
      "|             6|        20|              32|              6|       Emma Taylor|2019-03-28|        20|          Heels|        Footwear|\n",
      "|             6|         1|              22|              6|       Emma Taylor|2019-03-28|         1|         Laptop|     Electronics|\n",
      "|             3|         1|              42|              3|   Michael Johnson|2021-10-03|         1|         Laptop|     Electronics|\n",
      "|             7|         4|              52|              7|Christopher Miller|2020-01-11|         4|     Headphones|     Electronics|\n",
      "|             2|         2|              94|              2|        Jane Smith|2018-05-13|         2|     Smartphone|     Electronics|\n",
      "|             1|        25|              30|              1|          John Doe|2020-06-03|        25|Washing Machine|      Appliances|\n",
      "|             9|         4|              50|              9|   Daniel Martinez|2018-10-08|         4|     Headphones|     Electronics|\n",
      "|             6|        22|               8|              6|       Emma Taylor|2019-03-28|        22|   Coffee Maker|      Appliances|\n",
      "|             8|         3|              18|              8|      Olivia Davis|2021-10-24|         3|         Tablet|     Electronics|\n",
      "|             2|        26|              20|              2|        Jane Smith|2018-05-13|        26| Vacuum Cleaner|      Appliances|\n",
      "|             6|        25|               4|              6|       Emma Taylor|2019-03-28|        25|Washing Machine|      Appliances|\n",
      "|            10|        15|              10|             10|      Sophia Moore|2019-05-25|        15|         Hoodie|        Clothing|\n",
      "|             3|        13|              14|              3|   Michael Johnson|2021-10-03|        13|        Printer|     Electronics|\n",
      "+--------------+----------+----------------+---------------+------------------+----------+----------+---------------+----------------+\n",
      "only showing top 20 rows\n",
      "\n"
     ]
    }
   ],
   "source": [
    "final_report.show()"
   ]
  },
  {
   "cell_type": "code",
   "execution_count": 33,
   "id": "49f5c16e-c0a6-4c1a-a09a-2702a15ea68e",
   "metadata": {},
   "outputs": [
    {
     "name": "stdout",
     "output_type": "stream",
     "text": [
      "+------------------+---------------+----------------+\n",
      "|              name|   product_name|total_units_sold|\n",
      "+------------------+---------------+----------------+\n",
      "|   Michael Johnson|Electric Kettle|              48|\n",
      "|   Michael Johnson|         Hoodie|              28|\n",
      "|      Sophia Moore|     Smartphone|              32|\n",
      "|      David Wilson|          Skirt|              30|\n",
      "|   Daniel Martinez|        Sandals|              26|\n",
      "|       Emily Brown|        Sandals|              40|\n",
      "|   Daniel Martinez|          Skirt|               6|\n",
      "|       Emma Taylor|          Heels|              32|\n",
      "|       Emma Taylor|         Laptop|              22|\n",
      "|   Michael Johnson|         Laptop|              42|\n",
      "|Christopher Miller|     Headphones|              52|\n",
      "|        Jane Smith|     Smartphone|              94|\n",
      "|          John Doe|Washing Machine|              30|\n",
      "|   Daniel Martinez|     Headphones|              50|\n",
      "|       Emma Taylor|   Coffee Maker|               8|\n",
      "|      Olivia Davis|         Tablet|              18|\n",
      "|        Jane Smith| Vacuum Cleaner|              20|\n",
      "|       Emma Taylor|Washing Machine|               4|\n",
      "|      Sophia Moore|         Hoodie|              10|\n",
      "|   Michael Johnson|        Printer|              14|\n",
      "+------------------+---------------+----------------+\n",
      "only showing top 20 rows\n",
      "\n"
     ]
    }
   ],
   "source": [
    "selected_df = final_report.select(\"name\", \"product_name\", \"total_units_sold\")\n",
    "selected_df.show()\n"
   ]
  },
  {
   "cell_type": "code",
   "execution_count": 37,
   "id": "d340cf88-8426-467c-8750-07e79af4070e",
   "metadata": {},
   "outputs": [],
   "source": [
    "current_timestamp = datetime.now().strftime(\"%Y%m%d_%H%M%S\")\n",
    "output_path = f\"file:///data/output_{current_timestamp}.csv\"\n",
    "selected_df.write.mode(\"overwrite\").csv(output_path, header=True)"
   ]
  },
  {
   "cell_type": "markdown",
   "id": "3e7d6f08-a55c-44c0-b833-23ff41824a29",
   "metadata": {},
   "source": [
    "<hr>"
   ]
  }
 ],
 "metadata": {
  "kernelspec": {
   "display_name": "Pyspark 2",
   "language": "python",
   "name": "pyspark2"
  },
  "language_info": {
   "codemirror_mode": {
    "name": "ipython",
    "version": 3
   },
   "file_extension": ".py",
   "mimetype": "text/x-python",
   "name": "python",
   "nbconvert_exporter": "python",
   "pygments_lexer": "ipython3",
   "version": "3.6.9"
  }
 },
 "nbformat": 4,
 "nbformat_minor": 5
}
